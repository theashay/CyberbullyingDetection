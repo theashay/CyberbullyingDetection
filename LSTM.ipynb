{
 "cells": [
  {
   "cell_type": "code",
   "execution_count": 21,
   "id": "03406d86",
   "metadata": {},
   "outputs": [],
   "source": [
    "#pip install tensorflow pandas scikit-learn"
   ]
  },
  {
   "cell_type": "code",
   "execution_count": 4,
   "id": "5c87afb9",
   "metadata": {},
   "outputs": [],
   "source": [
    "import pandas as pd\n",
    "from sklearn.model_selection import train_test_split\n",
    "from tensorflow.keras.preprocessing.text import Tokenizer\n",
    "from tensorflow.keras.preprocessing.sequence import pad_sequences\n",
    "from tensorflow.keras.models import Sequential\n",
    "from tensorflow.keras.layers import Embedding, LSTM, Dense, Dropout\n",
    "from tensorflow.keras.optimizers import Adam"
   ]
  },
  {
   "cell_type": "code",
   "execution_count": 5,
   "id": "38ee7112",
   "metadata": {},
   "outputs": [],
   "source": [
    "# Step 1: Load the dataset\n",
    "file_path = r\"C:\\Users\\theaa\\Downloads\\final_data18k.csv\"  # Adjust the path as necessary\n",
    "data = pd.read_csv(file_path)"
   ]
  },
  {
   "cell_type": "code",
   "execution_count": 6,
   "id": "ef6fe215",
   "metadata": {},
   "outputs": [],
   "source": [
    "# Step 2: Clean the data\n",
    "cleaned_data = data.dropna(subset=['Comment'])  # Drop rows with missing text\n",
    "X = cleaned_data['Comment']\n",
    "y = cleaned_data['label']"
   ]
  },
  {
   "cell_type": "code",
   "execution_count": 7,
   "id": "8bc202c1",
   "metadata": {},
   "outputs": [],
   "source": [
    "# Split into training and testing sets\n",
    "X_train, X_test, y_train, y_test = train_test_split(X, y, test_size=0.3, random_state=42)"
   ]
  },
  {
   "cell_type": "code",
   "execution_count": 8,
   "id": "c9b2f18d",
   "metadata": {},
   "outputs": [],
   "source": [
    "# Step 3: Preprocess the text data\n",
    "max_words = 10000  # Maximum vocabulary size\n",
    "max_len = 100      # Maximum length of sequences\n",
    "\n",
    "tokenizer = Tokenizer(num_words=max_words, oov_token=\"<OOV>\")\n",
    "tokenizer.fit_on_texts(X_train)\n",
    "\n",
    "X_train_seq = tokenizer.texts_to_sequences(X_train)\n",
    "X_test_seq = tokenizer.texts_to_sequences(X_test)\n",
    "\n",
    "X_train_padded = pad_sequences(X_train_seq, maxlen=max_len, padding='pre')\n",
    "X_test_padded = pad_sequences(X_test_seq, maxlen=max_len, padding='pre')"
   ]
  },
  {
   "cell_type": "code",
   "execution_count": 9,
   "id": "3d8528da",
   "metadata": {},
   "outputs": [],
   "source": [
    "# Step 4: Build the LSTM model\n",
    "model = Sequential([\n",
    "    Embedding(input_dim=max_words, output_dim=64, input_length=max_len),\n",
    "    LSTM(64, return_sequences=True),\n",
    "    Dropout(0.3),\n",
    "    LSTM(32),\n",
    "    Dropout(0.3),\n",
    "    Dense(32, activation='relu'),\n",
    "    Dense(1, activation='sigmoid')  # Sigmoid activation for binary classification\n",
    "])"
   ]
  },
  {
   "cell_type": "code",
   "execution_count": 10,
   "id": "49bfaf88",
   "metadata": {},
   "outputs": [],
   "source": [
    "# Compile the model\n",
    "model.compile(optimizer=Adam(learning_rate=0.001), loss='binary_crossentropy', metrics=['accuracy'])"
   ]
  },
  {
   "cell_type": "code",
   "execution_count": 11,
   "id": "bca6ffbe",
   "metadata": {},
   "outputs": [
    {
     "name": "stdout",
     "output_type": "stream",
     "text": [
      "Epoch 1/10\n",
      "407/407 [==============================] - 39s 89ms/step - loss: 0.4276 - accuracy: 0.7951 - val_loss: 0.3120 - val_accuracy: 0.8742\n",
      "Epoch 2/10\n",
      "407/407 [==============================] - 36s 88ms/step - loss: 0.2487 - accuracy: 0.8978 - val_loss: 0.3127 - val_accuracy: 0.8683\n",
      "Epoch 3/10\n",
      "407/407 [==============================] - 34s 83ms/step - loss: 0.1785 - accuracy: 0.9282 - val_loss: 0.3563 - val_accuracy: 0.8658\n",
      "Epoch 4/10\n",
      "407/407 [==============================] - 37s 92ms/step - loss: 0.1298 - accuracy: 0.9491 - val_loss: 0.4155 - val_accuracy: 0.8518\n",
      "Epoch 5/10\n",
      "407/407 [==============================] - 36s 88ms/step - loss: 0.0933 - accuracy: 0.9632 - val_loss: 0.5193 - val_accuracy: 0.8575\n",
      "Epoch 6/10\n",
      "407/407 [==============================] - 34s 85ms/step - loss: 0.0758 - accuracy: 0.9710 - val_loss: 0.5636 - val_accuracy: 0.8507\n",
      "Epoch 7/10\n",
      "407/407 [==============================] - 36s 87ms/step - loss: 0.0651 - accuracy: 0.9751 - val_loss: 0.6398 - val_accuracy: 0.8534\n",
      "Epoch 8/10\n",
      "407/407 [==============================] - 38s 93ms/step - loss: 0.0441 - accuracy: 0.9826 - val_loss: 0.8003 - val_accuracy: 0.8523\n",
      "Epoch 9/10\n",
      "407/407 [==============================] - 36s 88ms/step - loss: 0.0438 - accuracy: 0.9842 - val_loss: 0.6797 - val_accuracy: 0.8548\n",
      "Epoch 10/10\n",
      "407/407 [==============================] - 35s 86ms/step - loss: 0.0387 - accuracy: 0.9851 - val_loss: 0.8173 - val_accuracy: 0.8455\n"
     ]
    }
   ],
   "source": [
    "# Step 5: Train the model\n",
    "history = model.fit(\n",
    "    X_train_padded, y_train,\n",
    "    validation_data=(X_test_padded, y_test),\n",
    "    epochs=10,\n",
    "    batch_size=32\n",
    ")"
   ]
  },
  {
   "cell_type": "code",
   "execution_count": 12,
   "id": "03ec253d",
   "metadata": {},
   "outputs": [
    {
     "name": "stdout",
     "output_type": "stream",
     "text": [
      "175/175 [==============================] - 4s 24ms/step - loss: 0.8173 - accuracy: 0.8455\n",
      "Test Loss: 0.8173\n",
      "Test Accuracy: 0.8455\n"
     ]
    }
   ],
   "source": [
    "# Step 6: Evaluate the model\n",
    "loss, accuracy = model.evaluate(X_test_padded, y_test)\n",
    "print(f\"Test Loss: {loss:.4f}\")\n",
    "print(f\"Test Accuracy: {accuracy:.4f}\")"
   ]
  },
  {
   "cell_type": "code",
   "execution_count": 15,
   "id": "0473f3e1",
   "metadata": {},
   "outputs": [],
   "source": [
    "# Save the trained LSTM model\n",
    "model.save('cyberbullying_model.keras')\n",
    "\n",
    "# Save the tokenizer used for preprocessing\n",
    "import pickle\n",
    "with open(\"tokenizer.pkl\", \"wb\") as file:\n",
    "    pickle.dump(tokenizer, file)"
   ]
  },
  {
   "cell_type": "code",
   "execution_count": null,
   "id": "c3d7cb9a",
   "metadata": {},
   "outputs": [],
   "source": []
  }
 ],
 "metadata": {
  "kernelspec": {
   "display_name": "Python 3",
   "language": "python",
   "name": "python3"
  },
  "language_info": {
   "codemirror_mode": {
    "name": "ipython",
    "version": 3
   },
   "file_extension": ".py",
   "mimetype": "text/x-python",
   "name": "python",
   "nbconvert_exporter": "python",
   "pygments_lexer": "ipython3",
   "version": "3.8.8"
  }
 },
 "nbformat": 4,
 "nbformat_minor": 5
}

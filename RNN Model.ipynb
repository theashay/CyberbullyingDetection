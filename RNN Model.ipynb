{
 "cells": [
  {
   "cell_type": "code",
   "execution_count": 1,
   "id": "d2e86edf",
   "metadata": {},
   "outputs": [],
   "source": [
    "import pandas as pd\n",
    "from sklearn.model_selection import train_test_split\n",
    "from tensorflow.keras.preprocessing.text import Tokenizer\n",
    "from tensorflow.keras.preprocessing.sequence import pad_sequences\n",
    "from tensorflow.keras.models import Sequential\n",
    "from tensorflow.keras.layers import Embedding, SimpleRNN, Dense, Dropout\n",
    "from tensorflow.keras.optimizers import Adam"
   ]
  },
  {
   "cell_type": "code",
   "execution_count": 2,
   "id": "286847da",
   "metadata": {},
   "outputs": [],
   "source": [
    "# Step 1: Load the dataset\n",
    "file_path = r\"C:\\Users\\theaa\\Downloads\\final_data18k.csv\"  # Adjust the path as necessary\n",
    "data = pd.read_csv(file_path)"
   ]
  },
  {
   "cell_type": "code",
   "execution_count": 6,
   "id": "e385d547",
   "metadata": {},
   "outputs": [],
   "source": [
    "# Step 2: Clean the data\n",
    "cleaned_data = data.dropna(subset=['Comment'])  # Drop rows with missing text\n",
    "X = cleaned_data['Comment']\n",
    "y = cleaned_data['label']"
   ]
  },
  {
   "cell_type": "code",
   "execution_count": 40,
   "id": "44d92f1a",
   "metadata": {},
   "outputs": [],
   "source": [
    "# Split into training and testing sets\n",
    "X_train, X_test, y_train, y_test = train_test_split(X, y, test_size=0.3, random_state=42)"
   ]
  },
  {
   "cell_type": "code",
   "execution_count": 41,
   "id": "1a3d26b6",
   "metadata": {},
   "outputs": [],
   "source": [
    "# Step 3: Preprocess the text data\n",
    "max_words = 10000  # Maximum vocabulary size\n",
    "max_len = 100      # Maximum length of sequences\n",
    "\n",
    "tokenizer = Tokenizer(num_words=max_words, oov_token=\"<OOV>\")\n",
    "tokenizer.fit_on_texts(X_train)\n",
    "\n",
    "X_train_seq = tokenizer.texts_to_sequences(X_train)\n",
    "X_test_seq = tokenizer.texts_to_sequences(X_test)\n",
    "\n",
    "X_train_padded = pad_sequences(X_train_seq, maxlen=max_len, padding='post')\n",
    "X_test_padded = pad_sequences(X_test_seq, maxlen=max_len, padding='post')"
   ]
  },
  {
   "cell_type": "code",
   "execution_count": 42,
   "id": "43ff9167",
   "metadata": {},
   "outputs": [],
   "source": [
    "# Step 4: Build the RNN model\n",
    "model = Sequential([\n",
    "    Embedding(input_dim=max_words, output_dim=64, input_length=max_len),\n",
    "    SimpleRNN(64, return_sequences=True),\n",
    "    Dropout(0.3),\n",
    "    SimpleRNN(32),\n",
    "    Dropout(0.3),\n",
    "    Dense(32, activation='relu'),\n",
    "    Dense(1, activation='sigmoid')  # Sigmoid activation for binary classification\n",
    "])"
   ]
  },
  {
   "cell_type": "code",
   "execution_count": 43,
   "id": "e65b169c",
   "metadata": {},
   "outputs": [],
   "source": [
    "# Compile the model\n",
    "model.compile(optimizer=Adam(learning_rate=0.001), loss='binary_crossentropy', metrics=['accuracy'])"
   ]
  },
  {
   "cell_type": "code",
   "execution_count": 44,
   "id": "7d18520d",
   "metadata": {},
   "outputs": [
    {
     "name": "stdout",
     "output_type": "stream",
     "text": [
      "Epoch 1/10\n",
      "407/407 [==============================] - 21s 45ms/step - loss: 0.6893 - accuracy: 0.5685 - val_loss: 0.6769 - val_accuracy: 0.6014\n",
      "Epoch 2/10\n",
      "407/407 [==============================] - 17s 42ms/step - loss: 0.6839 - accuracy: 0.5785 - val_loss: 0.6732 - val_accuracy: 0.6014\n",
      "Epoch 3/10\n",
      "407/407 [==============================] - 18s 43ms/step - loss: 0.6834 - accuracy: 0.5812 - val_loss: 0.6729 - val_accuracy: 0.6014\n",
      "Epoch 4/10\n",
      "407/407 [==============================] - 17s 41ms/step - loss: 0.6799 - accuracy: 0.5882 - val_loss: 0.6757 - val_accuracy: 0.6014\n",
      "Epoch 5/10\n",
      "407/407 [==============================] - 17s 42ms/step - loss: 0.6792 - accuracy: 0.5908 - val_loss: 0.6729 - val_accuracy: 0.6014\n",
      "Epoch 6/10\n",
      "407/407 [==============================] - 17s 42ms/step - loss: 0.6784 - accuracy: 0.5894 - val_loss: 0.6734 - val_accuracy: 0.6014\n",
      "Epoch 7/10\n",
      "407/407 [==============================] - 16s 41ms/step - loss: 0.6784 - accuracy: 0.5915 - val_loss: 0.6754 - val_accuracy: 0.6014\n",
      "Epoch 8/10\n",
      "407/407 [==============================] - 17s 42ms/step - loss: 0.6776 - accuracy: 0.5914 - val_loss: 0.6746 - val_accuracy: 0.6014\n",
      "Epoch 9/10\n",
      "407/407 [==============================] - 17s 41ms/step - loss: 0.6779 - accuracy: 0.5919 - val_loss: 0.6722 - val_accuracy: 0.6014\n",
      "Epoch 10/10\n",
      "407/407 [==============================] - 17s 42ms/step - loss: 0.6776 - accuracy: 0.5905 - val_loss: 0.6726 - val_accuracy: 0.6014\n"
     ]
    }
   ],
   "source": [
    "# Step 5: Train the model\n",
    "history = model.fit(\n",
    "    X_train_padded, y_train,\n",
    "    validation_data=(X_test_padded, y_test),\n",
    "    epochs=10,\n",
    "    batch_size=32\n",
    ")"
   ]
  },
  {
   "cell_type": "code",
   "execution_count": 45,
   "id": "ed506a0a",
   "metadata": {},
   "outputs": [
    {
     "name": "stdout",
     "output_type": "stream",
     "text": [
      "175/175 [==============================] - 2s 10ms/step - loss: 0.6726 - accuracy: 0.6014\n",
      "Test Loss: 0.6726\n",
      "Test Accuracy: 0.6014\n"
     ]
    }
   ],
   "source": [
    "# Step 6: Evaluate the model\n",
    "loss, accuracy = model.evaluate(X_test_padded, y_test)\n",
    "print(f\"Test Loss: {loss:.4f}\")\n",
    "print(f\"Test Accuracy: {accuracy:.4f}\")"
   ]
  },
  {
   "cell_type": "code",
   "execution_count": null,
   "id": "2f8424e1",
   "metadata": {},
   "outputs": [],
   "source": []
  }
 ],
 "metadata": {
  "kernelspec": {
   "display_name": "Python 3",
   "language": "python",
   "name": "python3"
  },
  "language_info": {
   "codemirror_mode": {
    "name": "ipython",
    "version": 3
   },
   "file_extension": ".py",
   "mimetype": "text/x-python",
   "name": "python",
   "nbconvert_exporter": "python",
   "pygments_lexer": "ipython3",
   "version": "3.8.8"
  }
 },
 "nbformat": 4,
 "nbformat_minor": 5
}
